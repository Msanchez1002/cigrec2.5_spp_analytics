{
 "cells": [
  {
   "cell_type": "code",
   "execution_count": 3,
   "metadata": {},
   "outputs": [],
   "source": [
    "# globa library\n",
    "from pandas import read_csv\n"
   ]
  },
  {
   "cell_type": "code",
   "execution_count": 4,
   "metadata": {},
   "outputs": [],
   "source": [
    "# Dataframe\n",
    "df_datagen = read_csv('../DataGeneración_filo.csv')"
   ]
  },
  {
   "cell_type": "code",
   "execution_count": 5,
   "metadata": {},
   "outputs": [
    {
     "name": "stdout",
     "output_type": "stream",
     "text": [
      "                 Fecha        kWh\n",
      "0  2021-01-01 00:00:00  353483.09\n",
      "1  2021-01-01 01:00:00  387809.23\n",
      "2  2021-01-01 02:00:00  385176.88\n",
      "3  2021-01-01 03:00:00  372592.99\n",
      "4  2021-01-01 04:00:00  368292.48\n"
     ]
    }
   ],
   "source": [
    "print(df_datagen.head())"
   ]
  }
 ],
 "metadata": {
  "kernelspec": {
   "display_name": "Python 3.7.3 64-bit",
   "language": "python",
   "name": "python3"
  },
  "language_info": {
   "codemirror_mode": {
    "name": "ipython",
    "version": 3
   },
   "file_extension": ".py",
   "mimetype": "text/x-python",
   "name": "python",
   "nbconvert_exporter": "python",
   "pygments_lexer": "ipython3",
   "version": "3.7.3"
  },
  "orig_nbformat": 4,
  "vscode": {
   "interpreter": {
    "hash": "9470546bcc2ad419c99709c664f25d9d0e8b305c8207177c6931f8d28a0f3a94"
   }
  }
 },
 "nbformat": 4,
 "nbformat_minor": 2
}
